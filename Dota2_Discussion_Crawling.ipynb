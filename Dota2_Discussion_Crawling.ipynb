{
 "cells": [
  {
   "cell_type": "code",
   "execution_count": 5,
   "metadata": {},
   "outputs": [],
   "source": [
    "from bs4 import BeautifulSoup\n",
    "import urllib.request\n",
    "import pandas as pd\n",
    "import matplotlib.pyplot as plt\n",
    "import numpy as np\n",
    "\n",
    "from time import sleep\n",
    "from random import randint"
   ]
  },
  {
   "cell_type": "code",
   "execution_count": 2,
   "metadata": {},
   "outputs": [
    {
     "name": "stdout",
     "output_type": "stream",
     "text": [
      "['https://steamcommunity.com/app/570/discussions/0/1639794651165173489/', 'https://steamcommunity.com/app/570/discussions/0/3175526477754831608/', 'https://steamcommunity.com/app/570/discussions/0/1696040635904700731/', 'https://steamcommunity.com/app/570/discussions/0/1696043806568564569/', 'https://steamcommunity.com/app/570/discussions/0/1696040635904718987/', 'https://steamcommunity.com/app/570/discussions/0/1745646187888667951/', 'https://steamcommunity.com/app/570/discussions/0/1745646187888562267/', 'https://steamcommunity.com/app/570/discussions/0/1745646187885783085/', 'https://steamcommunity.com/app/570/discussions/0/1745646187888553709/', 'https://steamcommunity.com/app/570/discussions/0/1745646187888045793/', 'https://steamcommunity.com/app/570/discussions/0/1745646187887656393/', 'https://steamcommunity.com/app/570/discussions/0/1745646187887691246/', 'https://steamcommunity.com/app/570/discussions/0/1745646187888601056/', 'https://steamcommunity.com/app/570/discussions/0/1745646187887149795/', 'https://steamcommunity.com/app/570/discussions/0/1745646093928539121/']\n"
     ]
    }
   ],
   "source": [
    "url = 'https://steamcommunity.com/app/570/discussions/'\n",
    "\n",
    " \n",
    "\n",
    "Link = []\n",
    "\n",
    "ourUrl=urllib.request.urlopen(url).read().decode(\"utf-8\")\n",
    "    \n",
    "soup=BeautifulSoup(ourUrl,'html.parser')\n",
    "    #print(soup.prettify())\n",
    "    \n",
    "    #all_info=soup.find_all('div',{'class':\"responsive_page_content\"})\n",
    "    #print(all_info)\n",
    "    \n",
    "    #for i in range(1,len(all_info)):\n",
    "for item in  soup.find_all('a',{'class':'forum_topic_overlay'}):\n",
    "    link = item.get('href')\n",
    "        #print(href)\n",
    "    Link.append(link)\n",
    "        \n",
    "\n",
    "        \n",
    "        \n",
    "print(Link)"
   ]
  },
  {
   "cell_type": "code",
   "execution_count": 31,
   "metadata": {},
   "outputs": [],
   "source": [
    "#link of author of post and post content\n",
    "Author_link = []\n",
    "Post = []\n",
    "\n",
    "#link of author of comment and comment content\n",
    "Comment_link =[]\n",
    "Comment=[]\n",
    "\n",
    "\n",
    "page_suffix=['','?cpt=2','?cpt=3','?cpt=4','?cpt=5','?cpt=6','?cpt=7','?cpt=8','?cpt=9','?cpt=10']\n",
    "\n",
    "\n",
    "for link in Link:\n",
    "    url = link\n",
    "    sleep(randint(1,4))\n",
    "    for i in page_suffix:\n",
    "        url_i = url + str(i)\n",
    "        ourUrl=urllib.request.urlopen(url_i).read().decode(\"utf-8\")\n",
    "    \n",
    "        soup=BeautifulSoup(ourUrl,'html.parser')\n",
    "        if i == '':\n",
    "            \n",
    "            for item in soup.find_all('a',{'class':'hoverunderline forum_op_author'}):\n",
    "                href = item.get('href')\n",
    "                Author_link.append(href)\n",
    "            \n",
    "            for item in soup.find_all('div',{'class':'content'}):\n",
    "                post = item.text.replace('\\t','').replace('\\n','').replace('\\r','')\n",
    "                Post.append(post)\n",
    "            \n",
    "        for item in  soup.find_all('a',{'class':'commentthread_author_link'}):\n",
    "            href = item.get('href')\n",
    "            Comment_link.append(href)\n",
    "        \n",
    "        for item in soup.find_all('div',{'class':'commentthread_comment_text'}):\n",
    "            comment = item.text.replace('\\t','').replace('\\n','').replace('\\r','')\n",
    "            Comment.append(comment)\n",
    "        \n",
    "        \n"
   ]
  },
  {
   "cell_type": "code",
   "execution_count": 39,
   "metadata": {},
   "outputs": [
    {
     "name": "stdout",
     "output_type": "stream",
     "text": [
      "['https://steamcommunity.com/profiles/76561198315439860', 'https://steamcommunity.com/id/Frazey', 'https://steamcommunity.com/id/scrantoto', 'https://steamcommunity.com/id/Frazey', 'https://steamcommunity.com/id/prokenzo', 'https://steamcommunity.com/profiles/76561198126216711', 'https://steamcommunity.com/profiles/76561198053925328', 'https://steamcommunity.com/profiles/76561198816637989', 'https://steamcommunity.com/profiles/76561198387895094', 'https://steamcommunity.com/profiles/76561198816637989', 'https://steamcommunity.com/id/606467', 'https://steamcommunity.com/id/Nayzuwo']\n"
     ]
    }
   ],
   "source": [
    "print(Author_link)"
   ]
  },
  {
   "cell_type": "code",
   "execution_count": 38,
   "metadata": {},
   "outputs": [
    {
     "name": "stdout",
     "output_type": "stream",
     "text": [
      "First of all, compliments for checking this thread and being vigilant.The short answer is: Until proven otherwise, assume the website is indeed a scam.There are many more scam sites out there than legitimate sites and it's impossible for us to list them all.While many scam sites are blocked (shown as {LINK REMOVED}http://sleamcommunity.com ) it's easy to make a new site and spam this, especially when often the accounts hijacked are used to spread even more links, or if certain sites use referral programs to trick you into spreading the website even more.Scam sites are often professionally built, have a convincing proposition and are well operated. They also come in many forms and continuously evolve, as a result of various steps taken to protect you from these sites.Don't be fooled though - they are most probably malicious using typically the same approaches to deceive people:Requiring deposits of real world currency to access items from the site.Requesting trade of items for nothing in return - gifting your items to a trade bot on the site.Offering any form of credit to participate in activities on the site.Even if what the site is offering is different to what is described above you should still not trust it:What is 'legitimate' today, is unlikely to be tomorrow - having some 'winners' establishes that legitimacy (and are often their own accounts).Claims made that a site is not a scam are simply a part of the scam or malicious.It is too good to be true and don't give into your fear of missing out.Steam has a very clear position on these third party sites. This is outlined in the following Steam news item - In-Game Item Trading Update. If you follow the Account Security Recommendations and follow the other instructions, links at the bottom, you should encounter no issues.Points to note:Any appearances of legitimacy through the use services such as Steam login are a misuse of the Steam OpenID API or an attempt at account hijacking.Steam has no business relationships with any of these third party sites.Please be aware that if you have fallen victim to a scam site, unfortunately the Steam Community cannot assist you with the recovery of real world currency and/or any items.Thank you for taking the time to read this.Please refer to the following Steam Support pages for further information:- Trade Scam FAQ- Account Security Recommendations \n"
     ]
    }
   ],
   "source": [
    "print(Post[9])"
   ]
  },
  {
   "cell_type": "code",
   "execution_count": 40,
   "metadata": {},
   "outputs": [
    {
     "name": "stdout",
     "output_type": "stream",
     "text": [
      "1180\n"
     ]
    }
   ],
   "source": [
    "print(len(Comment))"
   ]
  },
  {
   "cell_type": "code",
   "execution_count": 41,
   "metadata": {},
   "outputs": [
    {
     "name": "stdout",
     "output_type": "stream",
     "text": [
      "1180\n"
     ]
    }
   ],
   "source": [
    "print(len(Comment_link))"
   ]
  },
  {
   "cell_type": "code",
   "execution_count": 15,
   "metadata": {},
   "outputs": [
    {
     "name": "stdout",
     "output_type": "stream",
     "text": [
      "15\n"
     ]
    }
   ],
   "source": [
    "print(len(Link))"
   ]
  },
  {
   "cell_type": "code",
   "execution_count": null,
   "metadata": {},
   "outputs": [],
   "source": []
  }
 ],
 "metadata": {
  "kernelspec": {
   "display_name": "Python 3",
   "language": "python",
   "name": "python3"
  },
  "language_info": {
   "codemirror_mode": {
    "name": "ipython",
    "version": 3
   },
   "file_extension": ".py",
   "mimetype": "text/x-python",
   "name": "python",
   "nbconvert_exporter": "python",
   "pygments_lexer": "ipython3",
   "version": "3.7.4"
  }
 },
 "nbformat": 4,
 "nbformat_minor": 2
}
