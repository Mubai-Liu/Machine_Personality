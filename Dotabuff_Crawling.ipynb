{
 "cells": [
  {
   "cell_type": "code",
   "execution_count": 69,
   "metadata": {},
   "outputs": [],
   "source": [
    "from bs4 import BeautifulSoup\n",
    "import urllib.request\n",
    "import pandas as pd\n",
    "import matplotlib.pyplot as plt\n",
    "import numpy as np\n",
    "import requests\n",
    "import re\n",
    "from time import sleep\n",
    "from random import randint"
   ]
  },
  {
   "cell_type": "code",
   "execution_count": 93,
   "metadata": {},
   "outputs": [],
   "source": [
    "def make_suffix(page_num=1):\n",
    "    page_suffix=['']\n",
    "    for i in range(1,page_num):\n",
    "        page_suffix.append('?page='+str(i))\n",
    "    return(page_suffix)"
   ]
  },
  {
   "cell_type": "code",
   "execution_count": null,
   "metadata": {},
   "outputs": [],
   "source": [
    "def clear_link(Link):\n",
    "    "
   ]
  },
  {
   "cell_type": "code",
   "execution_count": 101,
   "metadata": {},
   "outputs": [],
   "source": [
    "url = 'https://www.dotabuff.com/forums/general'\n",
    "headers = {'User-Agent':'Mozilla/5.0 (Windows NT 6.1; WOW64) AppleWebKit/537.36 (KHTML, like Gecko) Chrome/55.0.2883.87 Safari/537.36'}\n",
    "\n",
    "page_suffix=make_suffix(100)\n",
    " \n",
    "\n",
    "Link = []\n",
    "\n",
    "for suffix in page_suffix:\n",
    "    url = url +str(suffix)\n",
    "    req = urllib.request.Request(url, headers=headers)\n",
    "\n",
    "    ourUrl= urllib.request.urlopen(req)\n",
    "\n",
    "    \n",
    "    soup=BeautifulSoup(ourUrl,'html.parser')\n",
    "    \n",
    "\n",
    "\n",
    "    for item in  soup.find_all('div',{'class':'content-inner'}):\n",
    "        for link in item.find_all('a'):\n",
    "            links = link['href']\n",
    "            #print(links)\n",
    "            Link.append(links)\n",
    "        \n",
    "\n",
    "        \n",
    "        "
   ]
  },
  {
   "cell_type": "code",
   "execution_count": 103,
   "metadata": {},
   "outputs": [
    {
     "name": "stdout",
     "output_type": "stream",
     "text": [
      "18100\n"
     ]
    }
   ],
   "source": [
    "print(len(Link))"
   ]
  },
  {
   "cell_type": "code",
   "execution_count": null,
   "metadata": {},
   "outputs": [],
   "source": []
  },
  {
   "cell_type": "code",
   "execution_count": null,
   "metadata": {},
   "outputs": [],
   "source": []
  }
 ],
 "metadata": {
  "kernelspec": {
   "display_name": "Python 3",
   "language": "python",
   "name": "python3"
  },
  "language_info": {
   "codemirror_mode": {
    "name": "ipython",
    "version": 3
   },
   "file_extension": ".py",
   "mimetype": "text/x-python",
   "name": "python",
   "nbconvert_exporter": "python",
   "pygments_lexer": "ipython3",
   "version": "3.7.4"
  }
 },
 "nbformat": 4,
 "nbformat_minor": 2
}
