{
 "cells": [
  {
   "cell_type": "code",
   "execution_count": 2,
   "metadata": {},
   "outputs": [],
   "source": [
    "from bs4 import BeautifulSoup\n",
    "import urllib.request\n",
    "import pandas as pd\n",
    "import matplotlib.pyplot as plt\n",
    "import numpy as np\n",
    "import requests\n",
    "import re\n",
    "from time import sleep\n",
    "from random import randint"
   ]
  },
  {
   "cell_type": "code",
   "execution_count": 9,
   "metadata": {},
   "outputs": [
    {
     "name": "stdout",
     "output_type": "stream",
     "text": [
      "['', '?page=2', '?page=3']\n"
     ]
    }
   ],
   "source": [
    "def make_suffix(page_num=1):\n",
    "    page_suffix=['']\n",
    "    for i in range(2,page_num+1):\n",
    "        page_suffix.append('?page='+str(i))\n",
    "    return(page_suffix)\n",
    "\n",
    "print(make_suffix(3))"
   ]
  },
  {
   "cell_type": "code",
   "execution_count": 10,
   "metadata": {},
   "outputs": [],
   "source": [
    "def clear_link(Link):\n",
    "    Link = [x for x in Link if x.startswith('/topics/')]\n",
    "    Link = [x for x in Link if x.find('#comment') ==-1]\n",
    "    Link = [x for x in Link if x.find('?page=')==-1]\n",
    "    \n",
    "    return(list(set(Link)))"
   ]
  },
  {
   "cell_type": "code",
   "execution_count": 11,
   "metadata": {},
   "outputs": [],
   "source": [
    "url = 'https://www.dotabuff.com/forums/general'\n",
    "headers = {'User-Agent':'Mozilla/5.0 (Windows NT 6.1; WOW64) AppleWebKit/537.36 (KHTML, like Gecko) Chrome/55.0.2883.87 Safari/537.36'}\n",
    "\n",
    "page_suffix=make_suffix(1)\n",
    " \n",
    "\n",
    "Link = []\n",
    "\n",
    "for suffix in page_suffix:\n",
    "    sleep(randint(1,4))\n",
    "    urls = url +str(suffix)\n",
    "    req = urllib.request.Request(urls, headers=headers)\n",
    "\n",
    "    ourUrl= urllib.request.urlopen(req)\n",
    "\n",
    "    \n",
    "    soup=BeautifulSoup(ourUrl,'html.parser')\n",
    "    \n",
    "\n",
    "\n",
    "    for item in  soup.find_all('div',{'class':'content-inner'}):\n",
    "        for link in item.find_all('a'):\n",
    "            links = link['href']\n",
    "            #print(links)\n",
    "            Link.append(links)\n",
    "        \n",
    "\n",
    "        \n",
    "        "
   ]
  },
  {
   "cell_type": "code",
   "execution_count": 12,
   "metadata": {},
   "outputs": [
    {
     "name": "stdout",
     "output_type": "stream",
     "text": [
      "['/topics/2015-10-20-predict-my-mmr-megathread', '/topics/2015-10-20-predict-my-mmr-megathread', '/topics/2015-10-20-predict-my-mmr-megathread?page=1', '/topics/2015-10-20-predict-my-mmr-megathread?page=2', '/topics/2015-10-20-predict-my-mmr-megathread?page=3', '/topics/2015-10-20-predict-my-mmr-megathread?page=94', '/topics/2015-10-20-predict-my-mmr-megathread?page=95', '/players/31213481', '/players/31213481', '/pages/about', '/players/1068805915', '/players/1068805915', '/topics/2015-10-20-predict-my-mmr-megathread?page=95#comment-1337343', '/topics/2017-05-12-updated-emoticons', '/topics/2017-05-12-updated-emoticons', '/topics/2017-05-12-updated-emoticons', '/topics/2017-05-12-updated-emoticons?page=1', '/topics/2017-05-12-updated-emoticons?page=2', '/topics/2017-05-12-updated-emoticons?page=3', '/players/70776872', '/players/70776872', '/pages/about', '/players/9500760', '/players/9500760', '/topics/2017-05-12-updated-emoticons?page=3#comment-1143795', '/topics/2017-07-28-dotabuff-discord', '/topics/2017-07-28-dotabuff-discord', '/topics/2017-07-28-dotabuff-discord', '/players/67064708', '/players/67064708', '/pages/about', '/players/236934626', '/players/236934626', '/topics/2017-07-28-dotabuff-discord?page=1#comment-1111895', '/topics/2014-06-09-forum-guidelines', '/topics/2014-06-09-forum-guidelines', '/topics/2014-06-09-forum-guidelines', '/players/56615691', '/players/56615691', '/pages/about', '/players/67064708', '/players/67064708', '/pages/about', '/topics/2014-06-09-forum-guidelines?page=1#comment-571582', '/topics/2020-02-26-dragging-wave-as-offlane', '/players/168488139', '/players/168488139', '/players/892434040', '/players/892434040', '/topics/2020-02-26-dragging-wave-as-offlane?page=1#comment-1337462', '/topics/2020-02-27-fuck-normal-skill-', '/players/1063424498', '/players/1063424498', '/players/1068805915', '/players/1068805915', '/topics/2020-02-27-fuck-normal-skill-?page=1#comment-1337457', '/topics/2020-02-27-game-is-dead', '/players/192263635', '/players/192263635', '/players/892434040', '/players/892434040', '/topics/2020-02-27-game-is-dead?page=1#comment-1337456', '/topics/2020-02-27-anyone-know-about-this-medal-bug', '/players/117723940', '/players/117723940', '/players/248612485', '/players/248612485', '/topics/2020-02-27-anyone-know-about-this-medal-bug?page=1#comment-1337455', '/topics/2020-02-27-met-3rd-booster-in-one-week', '/players/1057620030', '/players/1057620030', '/players/858685788', '/players/858685788', '/topics/2020-02-27-met-3rd-booster-in-one-week?page=1#comment-1337453', '/topics/2020-02-25-thumbs-updown-picking-phase', '/players/370669835', '/players/370669835', '/players/115526548', '/players/115526548', '/topics/2020-02-25-thumbs-updown-picking-phase?page=1#comment-1337449', '/topics/2015-07-15-ayy-lmao', '/topics/2015-07-15-ayy-lmao?page=1', '/topics/2015-07-15-ayy-lmao?page=2', '/topics/2015-07-15-ayy-lmao?page=3', '/topics/2015-07-15-ayy-lmao?page=1856', '/topics/2015-07-15-ayy-lmao?page=1857', '/players/38602394', '/players/38602394', '/players/198834222', '/players/198834222', '/topics/2015-07-15-ayy-lmao?page=1857#comment-1337439', '/topics/2020-02-27-is-there-any-chance-to-ban-the-account-buyers-because-they-destroying-this-game-also-acc-booster', '/players/341051671', '/players/341051671', '/players/858685788', '/players/858685788', '/topics/2020-02-27-is-there-any-chance-to-ban-the-account-buyers-because-they-destroying-this-game-also-acc-booster?page=1#comment-1337437', '/topics/2020-02-27-blue-star-underlord-mid', '/players/1007202456', '/players/1007202456', '/topics/2020-02-25-this-is-actually-sad-and-this-guy-deserves-to-get-banned-at-least-', '/topics/2020-02-25-this-is-actually-sad-and-this-guy-deserves-to-get-banned-at-least-?page=1', '/topics/2020-02-25-this-is-actually-sad-and-this-guy-deserves-to-get-banned-at-least-?page=2', '/players/858685788', '/players/858685788', '/players/1068871453', '/players/1068871453', '/topics/2020-02-25-this-is-actually-sad-and-this-guy-deserves-to-get-banned-at-least-?page=2#comment-1337426', '/topics/2020-02-23-from-legend-5-to-legend-1-in-few-days', '/players/63195810', '/players/63195810', '/players/387150102', '/players/387150102', '/topics/2020-02-23-from-legend-5-to-legend-1-in-few-days?page=1#comment-1337424', '/topics/2020-02-27-what-is-wrong-with-this-rank', '/players/916757703', '/players/916757703', '/players/858685788', '/players/858685788', '/topics/2020-02-27-what-is-wrong-with-this-rank?page=1#comment-1337416', '/topics/2020-02-27-why-is-chan-a-popular-support-', '/players/239259229', '/players/239259229', '/players/858685788', '/players/858685788', '/topics/2020-02-27-why-is-chan-a-popular-support-?page=1#comment-1337409', '/topics/2020-02-27-traim-saigraa', '/players/357973218', '/players/357973218', '/players/1064688218', '/players/1064688218', '/topics/2020-02-27-traim-saigraa?page=1#comment-1337396', '/topics/2020-02-25-100hrs-done-can-u-guys-guess-the-mmr-', '/players/1003882811', '/players/1003882811', '/players/115526548', '/players/115526548', '/topics/2020-02-25-100hrs-done-can-u-guys-guess-the-mmr-?page=1#comment-1337389', '/topics/2020-02-26-saw-an-interesting-strat-how-viable-is-it-and-how-would-you-counter-it-', '/players/95758502', '/players/95758502', '/players/298188215', '/players/298188215', '/topics/2020-02-26-saw-an-interesting-strat-how-viable-is-it-and-how-would-you-counter-it-?page=1#comment-1337374', '/topics/2020-02-09-i-recently-added-a-friend-who-is-2k-mmr-for-completing-my-100hr-when-i-complete-100hr-and-reach-vhs-bracket-solo-will-it-affect-my-calibration', '/players/1003882811', '/players/1003882811', '/players/1068805915', '/players/1068805915', '/topics/2020-02-09-i-recently-added-a-friend-who-is-2k-mmr-for-completing-my-100hr-when-i-complete-100hr-and-reach-vhs-bracket-solo-will-it-affect-my-calibration?page=1#comment-1337342', '/topics/2020-02-26-how-to-coach-random-people', '/players/366044106', '/players/366044106', '/players/366044106', '/players/366044106', '/topics/2020-02-26-how-to-coach-random-people?page=1#comment-1337338', '/topics/2020-02-25-fkin-retarded-matchmaking-', '/players/239259229', '/players/239259229', '/players/199642459', '/players/199642459', '/topics/2020-02-25-fkin-retarded-matchmaking-?page=1#comment-1337337', '/topics/2020-02-21-why-do-people-keep-picking-lion-it-isnt-a-good-support-there-are-so-many-better-options-', '/topics/2020-02-21-why-do-people-keep-picking-lion-it-isnt-a-good-support-there-are-so-many-better-options-?page=1', '/topics/2020-02-21-why-do-people-keep-picking-lion-it-isnt-a-good-support-there-are-so-many-better-options-?page=2', '/players/95758502', '/players/95758502', '/players/95758502', '/players/95758502', '/topics/2020-02-21-why-do-people-keep-picking-lion-it-isnt-a-good-support-there-are-so-many-better-options-?page=2#comment-1337318', '/topics/2020-02-24-dota-2-highlights-tv', '/players/86594815', '/players/86594815', '/players/86594815', '/players/86594815', '/topics/2020-02-24-dota-2-highlights-tv?page=1#comment-1337284', '/forums/general?page=2', '/forums/general?page=3', '/forums/general?page=4', '/forums/general?page=5', '/forums/general?page=2', '/forums/general?page=2240', '/signin?redirect=%2Fforums%2Fgeneral']\n"
     ]
    }
   ],
   "source": [
    "print(Link)"
   ]
  },
  {
   "cell_type": "code",
   "execution_count": 13,
   "metadata": {},
   "outputs": [],
   "source": [
    "Link=clear_link(Link)"
   ]
  },
  {
   "cell_type": "code",
   "execution_count": 14,
   "metadata": {},
   "outputs": [
    {
     "name": "stdout",
     "output_type": "stream",
     "text": [
      "['/topics/2020-02-27-game-is-dead', '/topics/2020-02-26-saw-an-interesting-strat-how-viable-is-it-and-how-would-you-counter-it-', '/topics/2015-10-20-predict-my-mmr-megathread', '/topics/2020-02-09-i-recently-added-a-friend-who-is-2k-mmr-for-completing-my-100hr-when-i-complete-100hr-and-reach-vhs-bracket-solo-will-it-affect-my-calibration', '/topics/2020-02-23-from-legend-5-to-legend-1-in-few-days', '/topics/2020-02-27-why-is-chan-a-popular-support-', '/topics/2020-02-25-100hrs-done-can-u-guys-guess-the-mmr-', '/topics/2017-05-12-updated-emoticons', '/topics/2020-02-27-traim-saigraa', '/topics/2020-02-26-how-to-coach-random-people', '/topics/2020-02-27-met-3rd-booster-in-one-week', '/topics/2020-02-24-dota-2-highlights-tv', '/topics/2020-02-27-what-is-wrong-with-this-rank', '/topics/2020-02-25-fkin-retarded-matchmaking-', '/topics/2020-02-27-fuck-normal-skill-', '/topics/2014-06-09-forum-guidelines', '/topics/2020-02-26-dragging-wave-as-offlane', '/topics/2020-02-25-this-is-actually-sad-and-this-guy-deserves-to-get-banned-at-least-', '/topics/2017-07-28-dotabuff-discord', '/topics/2015-07-15-ayy-lmao', '/topics/2020-02-21-why-do-people-keep-picking-lion-it-isnt-a-good-support-there-are-so-many-better-options-', '/topics/2020-02-27-blue-star-underlord-mid', '/topics/2020-02-27-anyone-know-about-this-medal-bug', '/topics/2020-02-25-thumbs-updown-picking-phase', '/topics/2020-02-27-is-there-any-chance-to-ban-the-account-buyers-because-they-destroying-this-game-also-acc-booster']\n"
     ]
    }
   ],
   "source": [
    "print(Link)"
   ]
  },
  {
   "cell_type": "code",
   "execution_count": 18,
   "metadata": {
    "scrolled": true
   },
   "outputs": [],
   "source": [
    "#link of author of post and post content\n",
    "Author_link = []\n",
    "Post = []\n",
    "Url = []\n",
    "for link in Link:\n",
    "    url = 'https://www.dotabuff.com/'+ link\n",
    "    Url.append(url)\n",
    "    \n",
    "    sleep(randint(1,5))\n",
    "    for i in page_suffix:\n",
    "        url_i = url + str(i)\n",
    "        req = urllib.request.Request(url_i, headers=headers)\n",
    "\n",
    "        ourUrl= urllib.request.urlopen(req)\n",
    "    \n",
    "        #soup=BeautifulSoup(ourUrl,'html.parser')\n",
    "        #print(soup)\n",
    "        for item in soup.find_all('div',{'class':'comment-player'}):\n",
    "            href = item.find('a')\n",
    "            href = href.get('href')\n",
    "            Author_link.append(href)\n",
    "            \n",
    "        for item in soup.find_all('div',{'class':'bbcode'}):\n",
    "            post = item.text.replace('\\t','').replace('\\n','').replace('\\r','')\n",
    "            Post.append(post)\n",
    "\n",
    "       \n"
   ]
  },
  {
   "cell_type": "code",
   "execution_count": 20,
   "metadata": {},
   "outputs": [
    {
     "name": "stdout",
     "output_type": "stream",
     "text": [
      "175\n",
      "175\n"
     ]
    }
   ],
   "source": [
    "print(len(Author_link))\n",
    "print(len(Post))"
   ]
  },
  {
   "cell_type": "code",
   "execution_count": 24,
   "metadata": {},
   "outputs": [],
   "source": [
    "def Id_Extract(Link):\n",
    "    Id = []\n",
    "    for i in range(len(Link)):\n",
    "        Id.append(Link[i].rsplit('/')[-1])\n",
    "    return(Id)"
   ]
  },
  {
   "cell_type": "code",
   "execution_count": 25,
   "metadata": {},
   "outputs": [
    {
     "data": {
      "text/plain": [
       "['95758502',\n",
       " '112119309',\n",
       " '130945653',\n",
       " '95758502',\n",
       " '112119309',\n",
       " '112119309',\n",
       " '298188215',\n",
       " '95758502',\n",
       " '112119309',\n",
       " '130945653',\n",
       " '95758502',\n",
       " '112119309',\n",
       " '112119309',\n",
       " '298188215',\n",
       " '95758502',\n",
       " '112119309',\n",
       " '130945653',\n",
       " '95758502',\n",
       " '112119309',\n",
       " '112119309',\n",
       " '298188215',\n",
       " '95758502',\n",
       " '112119309',\n",
       " '130945653',\n",
       " '95758502',\n",
       " '112119309',\n",
       " '112119309',\n",
       " '298188215',\n",
       " '95758502',\n",
       " '112119309',\n",
       " '130945653',\n",
       " '95758502',\n",
       " '112119309',\n",
       " '112119309',\n",
       " '298188215',\n",
       " '95758502',\n",
       " '112119309',\n",
       " '130945653',\n",
       " '95758502',\n",
       " '112119309',\n",
       " '112119309',\n",
       " '298188215',\n",
       " '95758502',\n",
       " '112119309',\n",
       " '130945653',\n",
       " '95758502',\n",
       " '112119309',\n",
       " '112119309',\n",
       " '298188215',\n",
       " '95758502',\n",
       " '112119309',\n",
       " '130945653',\n",
       " '95758502',\n",
       " '112119309',\n",
       " '112119309',\n",
       " '298188215',\n",
       " '95758502',\n",
       " '112119309',\n",
       " '130945653',\n",
       " '95758502',\n",
       " '112119309',\n",
       " '112119309',\n",
       " '298188215',\n",
       " '95758502',\n",
       " '112119309',\n",
       " '130945653',\n",
       " '95758502',\n",
       " '112119309',\n",
       " '112119309',\n",
       " '298188215',\n",
       " '95758502',\n",
       " '112119309',\n",
       " '130945653',\n",
       " '95758502',\n",
       " '112119309',\n",
       " '112119309',\n",
       " '298188215',\n",
       " '95758502',\n",
       " '112119309',\n",
       " '130945653',\n",
       " '95758502',\n",
       " '112119309',\n",
       " '112119309',\n",
       " '298188215',\n",
       " '95758502',\n",
       " '112119309',\n",
       " '130945653',\n",
       " '95758502',\n",
       " '112119309',\n",
       " '112119309',\n",
       " '298188215',\n",
       " '95758502',\n",
       " '112119309',\n",
       " '130945653',\n",
       " '95758502',\n",
       " '112119309',\n",
       " '112119309',\n",
       " '298188215',\n",
       " '95758502',\n",
       " '112119309',\n",
       " '130945653',\n",
       " '95758502',\n",
       " '112119309',\n",
       " '112119309',\n",
       " '298188215',\n",
       " '95758502',\n",
       " '112119309',\n",
       " '130945653',\n",
       " '95758502',\n",
       " '112119309',\n",
       " '112119309',\n",
       " '298188215',\n",
       " '95758502',\n",
       " '112119309',\n",
       " '130945653',\n",
       " '95758502',\n",
       " '112119309',\n",
       " '112119309',\n",
       " '298188215',\n",
       " '95758502',\n",
       " '112119309',\n",
       " '130945653',\n",
       " '95758502',\n",
       " '112119309',\n",
       " '112119309',\n",
       " '298188215',\n",
       " '95758502',\n",
       " '112119309',\n",
       " '130945653',\n",
       " '95758502',\n",
       " '112119309',\n",
       " '112119309',\n",
       " '298188215',\n",
       " '95758502',\n",
       " '112119309',\n",
       " '130945653',\n",
       " '95758502',\n",
       " '112119309',\n",
       " '112119309',\n",
       " '298188215',\n",
       " '95758502',\n",
       " '112119309',\n",
       " '130945653',\n",
       " '95758502',\n",
       " '112119309',\n",
       " '112119309',\n",
       " '298188215',\n",
       " '95758502',\n",
       " '112119309',\n",
       " '130945653',\n",
       " '95758502',\n",
       " '112119309',\n",
       " '112119309',\n",
       " '298188215',\n",
       " '95758502',\n",
       " '112119309',\n",
       " '130945653',\n",
       " '95758502',\n",
       " '112119309',\n",
       " '112119309',\n",
       " '298188215',\n",
       " '95758502',\n",
       " '112119309',\n",
       " '130945653',\n",
       " '95758502',\n",
       " '112119309',\n",
       " '112119309',\n",
       " '298188215',\n",
       " '95758502',\n",
       " '112119309',\n",
       " '130945653',\n",
       " '95758502',\n",
       " '112119309',\n",
       " '112119309',\n",
       " '298188215']"
      ]
     },
     "execution_count": 25,
     "metadata": {},
     "output_type": "execute_result"
    }
   ],
   "source": [
    "Id = Id_Extract(Author_link)\n",
    "Id"
   ]
  },
  {
   "cell_type": "code",
   "execution_count": null,
   "metadata": {},
   "outputs": [],
   "source": [
    "with open('/Dotabuff.csv','a', encoding = 'utf-8') as File:\n",
    "    header = 'Id, Comment\\n'\n",
    "    File.write(header)\n",
    "    for i in range(len(Id)):\n",
    "        file = Id[i] + ','+ Post[i]+'\\n'\n",
    "        File.write(file)"
   ]
  },
  {
   "cell_type": "code",
   "execution_count": 26,
   "metadata": {},
   "outputs": [
    {
     "data": {
      "text/html": [
       "<div>\n",
       "<style scoped>\n",
       "    .dataframe tbody tr th:only-of-type {\n",
       "        vertical-align: middle;\n",
       "    }\n",
       "\n",
       "    .dataframe tbody tr th {\n",
       "        vertical-align: top;\n",
       "    }\n",
       "\n",
       "    .dataframe thead th {\n",
       "        text-align: right;\n",
       "    }\n",
       "</style>\n",
       "<table border=\"1\" class=\"dataframe\">\n",
       "  <thead>\n",
       "    <tr style=\"text-align: right;\">\n",
       "      <th></th>\n",
       "      <th>Id</th>\n",
       "      <th>Comment</th>\n",
       "    </tr>\n",
       "  </thead>\n",
       "  <tbody>\n",
       "    <tr>\n",
       "      <td>0</td>\n",
       "      <td>95758502</td>\n",
       "      <td>Basically what the other side did was at :30 g...</td>\n",
       "    </tr>\n",
       "    <tr>\n",
       "      <td>1</td>\n",
       "      <td>112119309</td>\n",
       "      <td>if that's happening then :1. the said pos 4 mu...</td>\n",
       "    </tr>\n",
       "    <tr>\n",
       "      <td>2</td>\n",
       "      <td>130945653</td>\n",
       "      <td>Kinda wanna try this in unranked. Curious star...</td>\n",
       "    </tr>\n",
       "    <tr>\n",
       "      <td>3</td>\n",
       "      <td>95758502</td>\n",
       "      <td>how will you kill the pos 4? he is behind the ...</td>\n",
       "    </tr>\n",
       "    <tr>\n",
       "      <td>4</td>\n",
       "      <td>112119309</td>\n",
       "      <td>he is behind the t2 towerDude, I tried this, t...</td>\n",
       "    </tr>\n",
       "    <tr>\n",
       "      <td>...</td>\n",
       "      <td>...</td>\n",
       "      <td>...</td>\n",
       "    </tr>\n",
       "    <tr>\n",
       "      <td>170</td>\n",
       "      <td>130945653</td>\n",
       "      <td>Kinda wanna try this in unranked. Curious star...</td>\n",
       "    </tr>\n",
       "    <tr>\n",
       "      <td>171</td>\n",
       "      <td>95758502</td>\n",
       "      <td>how will you kill the pos 4? he is behind the ...</td>\n",
       "    </tr>\n",
       "    <tr>\n",
       "      <td>172</td>\n",
       "      <td>112119309</td>\n",
       "      <td>he is behind the t2 towerDude, I tried this, t...</td>\n",
       "    </tr>\n",
       "    <tr>\n",
       "      <td>173</td>\n",
       "      <td>112119309</td>\n",
       "      <td>and also yes, it's a good strat, even more wit...</td>\n",
       "    </tr>\n",
       "    <tr>\n",
       "      <td>174</td>\n",
       "      <td>298188215</td>\n",
       "      <td>Your offlane will automatically suffer more so...</td>\n",
       "    </tr>\n",
       "  </tbody>\n",
       "</table>\n",
       "<p>175 rows × 2 columns</p>\n",
       "</div>"
      ],
      "text/plain": [
       "            Id                                            Comment\n",
       "0     95758502  Basically what the other side did was at :30 g...\n",
       "1    112119309  if that's happening then :1. the said pos 4 mu...\n",
       "2    130945653  Kinda wanna try this in unranked. Curious star...\n",
       "3     95758502  how will you kill the pos 4? he is behind the ...\n",
       "4    112119309  he is behind the t2 towerDude, I tried this, t...\n",
       "..         ...                                                ...\n",
       "170  130945653  Kinda wanna try this in unranked. Curious star...\n",
       "171   95758502  how will you kill the pos 4? he is behind the ...\n",
       "172  112119309  he is behind the t2 towerDude, I tried this, t...\n",
       "173  112119309  and also yes, it's a good strat, even more wit...\n",
       "174  298188215  Your offlane will automatically suffer more so...\n",
       "\n",
       "[175 rows x 2 columns]"
      ]
     },
     "execution_count": 26,
     "metadata": {},
     "output_type": "execute_result"
    }
   ],
   "source": [
    "df={'Id':Id,\n",
    "   'Comment':Post}\n",
    "Dotabuff_forum = pd.DataFrame(df)\n",
    "Dotabuff_forum"
   ]
  },
  {
   "cell_type": "code",
   "execution_count": 27,
   "metadata": {},
   "outputs": [],
   "source": [
    "with open('Dota_buff.csv', 'w') as csv_file:\n",
    "    Dotabuff_forum.to_csv(path_or_buf=csv_file)"
   ]
  },
  {
   "cell_type": "code",
   "execution_count": null,
   "metadata": {},
   "outputs": [],
   "source": []
  }
 ],
 "metadata": {
  "kernelspec": {
   "display_name": "Python 3",
   "language": "python",
   "name": "python3"
  },
  "language_info": {
   "codemirror_mode": {
    "name": "ipython",
    "version": 3
   },
   "file_extension": ".py",
   "mimetype": "text/x-python",
   "name": "python",
   "nbconvert_exporter": "python",
   "pygments_lexer": "ipython3",
   "version": "3.7.4"
  }
 },
 "nbformat": 4,
 "nbformat_minor": 2
}
